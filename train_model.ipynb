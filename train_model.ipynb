from sklearn.metrics import confusion_matrix, roc_curve, auc, ConfusionMatrixDisplay
import matplotlib.pyplot as plt

# After predictions:
cm = confusion_matrix(y_test, y_pred)
ConfusionMatrixDisplay(cm).plot()

fpr, tpr, _ = roc_curve(y_test, y_pred_proba)
plt.plot(fpr, tpr)
plt.xlabel("False Positive Rate")
plt.ylabel("True Positive Rate")
plt.title("ROC Curve")
plt.show()


model = XGBClassifier(scale_pos_weight=3)  # For XGBoost
# OR
model = LogisticRegression(class_weight='balanced')
